{
 "cells": [
  {
   "cell_type": "markdown",
   "metadata": {},
   "source": [
    "## 15GB数据，运行时间15m"
   ]
  },
  {
   "cell_type": "markdown",
   "metadata": {},
   "source": [
    "请注意：因为使用了jupyter notebook 的 cython magic， 此notebook中的代码仅可以在 jupyter notebook 下可用，代码下载到python文件无法正常运行"
   ]
  },
  {
   "cell_type": "code",
   "execution_count": 1,
   "metadata": {
    "ExecuteTime": {
     "end_time": "2017-08-13T09:53:50.914009Z",
     "start_time": "2017-08-13T09:53:50.578072Z"
    },
    "collapsed": true
   },
   "outputs": [],
   "source": [
    "%load_ext cython  #使用cython扩展"
   ]
  },
  {
   "cell_type": "code",
   "execution_count": 2,
   "metadata": {
    "ExecuteTime": {
     "end_time": "2017-08-13T09:53:50.923996Z",
     "start_time": "2017-08-13T09:53:50.914009Z"
    },
    "collapsed": true
   },
   "outputs": [],
   "source": [
    "%%cython\n",
    "# 使用cython 加快点是否在矩形内的判定\n",
    "\n",
    "cdef struct Rect:  # 定义范围矩形，便于加快查找速度\n",
    "    float lon_min\n",
    "    float lon_max\n",
    "    float lat_min\n",
    "    float lat_max\n",
    "    \n",
    "cpdef int in_range_c(object point, object rect):  #  查找点是否在矩形内\n",
    "    cdef float lon, lat\n",
    "    cdef Rect r1\n",
    "    lon, lat = point\n",
    "    r1.lon_min, r1.lon_max, r1.lat_min, r1.lat_max = rect\n",
    "    if lon < r1.lon_min or lon > r1.lon_max:\n",
    "        return False\n",
    "    if lat < r1.lat_min or lat > r1.lat_max:\n",
    "        return False\n",
    "    return True"
   ]
  },
  {
   "cell_type": "code",
   "execution_count": 3,
   "metadata": {
    "ExecuteTime": {
     "end_time": "2017-08-13T09:53:50.939035Z",
     "start_time": "2017-08-13T09:53:50.927032Z"
    },
    "collapsed": true
   },
   "outputs": [],
   "source": [
    "from glob import glob\n",
    "flickr_datas = glob('*.txt')  # 将当前需要处理的文件名提取到列表，此处是txt文件，可以手动改成其他文件\n",
    "poi_data = 'POI.csv'\n",
    "\n",
    "pois = {}  # POI 字典，键为 地点名， 值为四至点范围\n",
    "with open(poi_data) as f:\n",
    "    for line in f:\n",
    "        l = line.strip().split(',')\n",
    "        pois[l[-1].encode()] = [float(i) for i in l[:-1]]\n",
    "for k, v in pois.items():\n",
    "    pois[k] = sorted([v[1], v[3]]) + sorted([v[0], v[2]]) # [lon_min, lon_max, lat_min, lat_max]]"
   ]
  },
  {
   "cell_type": "code",
   "execution_count": 4,
   "metadata": {
    "ExecuteTime": {
     "end_time": "2017-08-13T10:08:39.282418Z",
     "start_time": "2017-08-13T09:53:50.942040Z"
    }
   },
   "outputs": [],
   "source": [
    "for file in flickr_datas:  # 只遍历一次所有文件\n",
    "    with open(file, 'rb') as f, open('total.csv', 'ab') as g:  # 使用二进制读写，显著加快IO速度\n",
    "        for line in f:\n",
    "            coordinates = [float(i) for i in line.split(b'\\t')[7:9]] # [lon, lat]\n",
    "            for site, rect in pois.items():\n",
    "                if in_range_c(coordinates, rect):\n",
    "                    g.write(site + b'\\t' + line)  # 将所有的搜索结果加上地名写到一个文件下，待稍后处理"
   ]
  },
  {
   "cell_type": "code",
   "execution_count": 5,
   "metadata": {
    "ExecuteTime": {
     "end_time": "2017-08-13T10:08:47.636277Z",
     "start_time": "2017-08-13T10:08:39.282418Z"
    },
    "collapsed": true
   },
   "outputs": [],
   "source": [
    "file_dict = {}\n",
    "with open('total.csv', encoding='utf-8') as f:  # 将汇总的文件分开成多个小文件\n",
    "    for line in f:\n",
    "        site = line.split('\\t')[0]\n",
    "        if site not in file_dict:\n",
    "            file_dict[site] = open('{}.csv'.format(site), 'w', encoding='utf-8')\n",
    "        file_dict[site].write(line.split('\\t', 1)[1])\n",
    "for site, file in file_dict.items():\n",
    "    file.close()"
   ]
  }
 ],
 "metadata": {
  "kernelspec": {
   "display_name": "ML",
   "language": "python",
   "name": "ml"
  },
  "language_info": {
   "codemirror_mode": {
    "name": "ipython",
    "version": 3
   },
   "file_extension": ".py",
   "mimetype": "text/x-python",
   "name": "python",
   "nbconvert_exporter": "python",
   "pygments_lexer": "ipython3",
   "version": "3.5.3"
  },
  "toc": {
   "colors": {
    "hover_highlight": "#DAA520",
    "navigate_num": "#000000",
    "navigate_text": "#333333",
    "running_highlight": "#FF0000",
    "selected_highlight": "#FFD700",
    "sidebar_border": "#EEEEEE",
    "wrapper_background": "#FFFFFF"
   },
   "moveMenuLeft": true,
   "nav_menu": {
    "height": "30px",
    "width": "252px"
   },
   "navigate_menu": true,
   "number_sections": true,
   "sideBar": true,
   "threshold": 4.0,
   "toc_cell": false,
   "toc_section_display": "block",
   "toc_window_display": false,
   "widenNotebook": false
  }
 },
 "nbformat": 4,
 "nbformat_minor": 0
}
