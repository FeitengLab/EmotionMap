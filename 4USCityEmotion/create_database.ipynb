{
 "cells": [
  {
   "cell_type": "markdown",
   "metadata": {},
   "source": [
    "# API"
   ]
  },
  {
   "cell_type": "code",
   "execution_count": 15,
   "metadata": {},
   "outputs": [],
   "source": [
    "import psycopg2"
   ]
  },
  {
   "cell_type": "markdown",
   "metadata": {},
   "source": [
    "CREATE TABLE API  \n",
    "(key CHARACTER VARYING(100) NOT NULL PRIMARY KEY,  \n",
    "secret CHARACTER VARYING(100) NOT NULL,\n",
    "type CHARACTER VARYING(10) NOT NULL,  \n",
    "start_use BOOLEAN NOT NULL DEFAULT(FALSE)  \n",
    ");  \n",
    "CREATE INDEX key_index ON API(key);  \n",
    "CREATE INDEX secret_index ON API(secret);  \n",
    "CREATE INDEX type_index ON API(type);  \n",
    "CREATE INDEX start_use_index ON API(start_use);  "
   ]
  },
  {
   "cell_type": "markdown",
   "metadata": {},
   "source": [
    "INSERT INTO API VALUES  \n",
    "('199ed59000c39dd0844b59d01fa7570c','4a2ce28f1bb8a1fe','flickr', FALSE),  \n",
    "('81ec25b2e0093c6f2c2e70da0175a7ea','6eaa89f23ae0762e','flickr', FALSE),  \n",
    "('4f3c045b20127210215889331a6ab134','2010f9a1cf1abe18','flickr', FALSE),  \n",
    "('382e669299b2ea33fa2288fd7180326a','b556d443c16be15e','flickr', FALSE),  \n",
    "('b422ff64b04ecee4c169ca01a21f5bcb','57d1f80344df6188','flickr', FALSE),  \n",
    "('042e20a01e7080ae8a7a4889208d215f','c2d8a1f6b9760cb9','flickr', FALSE),  \n",
    "('fc7b495434337ecb3ea080a3f410b0c6','8ed6d435785a2023','flickr', FALSE),  \n",
    "('696005e9ef76d9ef438c99f21605b322','9085b2dbbae8ede5','flickr', FALSE),  \n",
    "('7ce333ecbbf8ab34a6843e0edeeed7f4','c72121c17578668c','flickr', FALSE),  \n",
    "('2c8b19dfe58aded2e3a756bfba941558','9ef37b12d94a3da4','flickr', FALSE),  \n",
    "('3d3687711d33d98a847a34e094cd228d','27b2d210f4142b6b','flickr', FALSE),  \n",
    "('3f647b14450052251bbda3d4f8e3efd4','afa71fda070402ad','flickr', FALSE),  \n",
    "('60ff62a1aa6701d0bbd642663cf35d96','729cd4f7b7c92931','flickr', FALSE),  \n",
    "('75b8a444d318c769ae8142b1351a2b3c','a8723ba65b8ca827','flickr', FALSE),  \n",
    "('089c5cfa0ff527fdb25cd8b0a547e914','2dbdc4ce5d3e752b','flickr', FALSE),  \n",
    "('40e4f0df81f75752f74e36683808d7ab','f1a8144378ed93d4','flickr', FALSE),  \n",
    "('622f1f3e57c9f337d1212444831ff475','fafddabfbe0405b7','flickr', FALSE),  \n",
    "('1f7c3204baf7159d4ec9e833ee21d11f','90b9ed8a906812f3','flickr', FALSE);  "
   ]
  },
  {
   "cell_type": "markdown",
   "metadata": {},
   "source": [
    "INSERT INTO API VALUES  \n",
    "('DCTCyC_D_3ZGW4VZVkmj25IJNUuNdXT4','T9NzaLTeiSe_Rqtye0pUCs3Ed-ZQiq6V','Face++',False),  \n",
    "('Dm18HrboYUuAVeX6A-_6Y0q27OkE3cvN','3FPheINGB2qLTDcV-FOpjloXmOjDDG4A','Face++',False),  \n",
    "('AB3ubqE6FNZGPxu8NE4c1F0OJCn8HInI','VHH-kDCN1MQ_Ru2qq21YPyOwVF-e2Hmb','Face++',False),  \n",
    "('HGLXmBY-gO6WsCB4ZkFpEadYDD3SO4_S','oN8M-apFgr-4V4qW2W7TSuyUHy2Gw89_','Face++',False),  \n",
    "('Xgv1FMjf7zaGVfcR_hlpdyif3Ez0q1m5','ISIsT6DYelUG9iPYS3NEKJ1dTfyReSph','Face++',False),  \n",
    "('D8KfUEN_6PM1yCHveoKuxgZ0GT21X1Bh','_7vXMF7dsWNa7CIZiSOKs5JZp_XACHvf','Face++',False),  \n",
    "('Fu4-6MVuWgGCUeIxjSYRusH8eVilBtAz','epLYs0n7YLAWaYjA7HlXuLILHjKnL5iJ','Face++',False),  \n",
    "('mhFDxxTfQy6Rd4u298kwFvxbCxAMCpHq','yMZBadr5wVFsUWSZ_I0jo0w9vzjDVEii','Face++',False),  \n",
    "('1iPU-v_kLZs5OXjUZBlFL6ooTci8U3Yp','jTt_gIkc2bqnYGKucZboLuSQuUBzT2Vk','Face++',False),  \n",
    "('h_KYerXL2QeTmsAJGGBiPZFxl7_QXmiO','v1uoVifc12-1SYRsyNxgSR5k4QQqyK9u','Face++',False),  \n",
    "('sPG0n8LFaQfxxglBtbverq7iJgPs8DMQ','HBd-aaVTudtepT9bhybHKtJaLx7sMw1Y','Face++',False),  \n",
    "('hOLmeAvF4_gPFycCYZO4HoyJsFa7rlHc','gqAKxnvHvxpgt-mnHZMc7EwCD2XyHk0-','Face++',False),  \n",
    "('nBbJ3_x3xmnmc7CJO_VrK8vT8lmGlZIB','HB12_nEr3Y2I9rgKCtN0KKYX-LPA-sUU','Face++',False),  \n",
    "('_VTJAxAE34Xt-h236X1LVbO6gMJwszLN','f9roZWjSMH7csIVn4RHuGQ6ZDOwxhuCx','Face++',False),  \n",
    "('oSzQJ7Owxqk2T5yZuIHKoJ3s_n11BDQP','wv-sD-NgKWm0kRK757UxUDsbuzj0TYs ','Face++',False),  \n",
    "('NCv1iO90aVJ4Axy-FjE2SemVMP50Fg8e','xjKxi7n4qfO9h3N1uAThcMD01L6478YK','Face++',False),  \n",
    "('jFIzayRBM4X3-YJzzXBkZlzXy5MPe1Pl','spDfyMN7FnwnS5hbtnxFhxtuFmKeNPRs','Face++',False),  \n",
    "('TUWlFehF2kAEowOZRVyLa-0XzjoFKvUR','d5T4Lpx6DAFMTNRr6kfkcr6ZuQgfhosc','Face++',False),  \n",
    "('RsqKoZtF2Zcj1zKdn0i4-3yTCrtxeuVo','J2qGXnlTLcUqdS9CJ_6M-gt57vVohjy-','Face++',False),  \n",
    "('bbhAbpc7IrCGCWzrUu1bftZhR9iSkOh4','2jTiWxN2dCdTefw8ZbX0V8f_EOVzxbvk','Face++',False),  \n",
    "('8k8rid_MisVBXRSuAeiLVA5ymeT_8eYQ','gw2dA-e0fwv20icOC6OucBcRgc9yPi8k','Face++',False),  \n",
    "('ebfsStmOrxvn-kppu_-1AXrsYmrJSmB0','NqvtZaDgEfV4U5m2cn-7agaw5WEpLL2z','Face++',False),  \n",
    "('mDCcCZx7EqeQjRu2yv8byuCB_xWkFMyd','fn73kxqkkP0mesI-gcPBk0BUmrAmdzTe','Face++',False);  "
   ]
  },
  {
   "cell_type": "code",
   "execution_count": 16,
   "metadata": {},
   "outputs": [],
   "source": [
    "class CloudDatabase(object):\n",
    "    # Init database and input ip\n",
    "    # 初始化数据库并传入ip\n",
    "    def __init__(self, database, user, password, ip=\"127.0.0.1\", port=\"5432\"):\n",
    "        self.database = database\n",
    "        self.user = user\n",
    "        self.password = password\n",
    "        self.ip = ip\n",
    "        self.port = port\n",
    "\n",
    "    # Connect database and set input as host, return connection and cursor\n",
    "    # 连接ip端数据库并返回connection和cursor\n",
    "    def db_connect(self):\n",
    "        self.connection = psycopg2.connect(database=self.database, user=self.user,\n",
    "                                           password=self.password, host=self.ip, port=self.port)\n",
    "        self.cursor = self.connection.cursor()\n",
    "\n",
    "    def execute(self, sql):\n",
    "        try:\n",
    "            self.cursor.execute(sql)\n",
    "            self.connection.commit()\n",
    "        except Exception as e:\n",
    "            self.connection.rollback()\n",
    "            \n",
    "    # Write log file\n",
    "    # 输出日志\n",
    "    def write_log(self, e):\n",
    "        self.connection.rollback()\n",
    "        with open(\"log.txt\", 'a') as log_file:\n",
    "            log_file.writelines(str(e))"
   ]
  },
  {
   "cell_type": "code",
   "execution_count": 17,
   "metadata": {},
   "outputs": [],
   "source": [
    "database = CloudDatabase(\"PlaceEmotion\", \"postgres\", \"postgres\", \"127.0.0.1\")\n",
    "database.db_connect()"
   ]
  },
  {
   "cell_type": "code",
   "execution_count": 14,
   "metadata": {},
   "outputs": [
    {
     "name": "stdout",
     "output_type": "stream",
     "text": [
      "1f7c3204baf7159d4ec9e833ee21d11f 90b9ed8a906812f3\n",
      "622f1f3e57c9f337d1212444831ff475 fafddabfbe0405b7\n",
      "40e4f0df81f75752f74e36683808d7ab f1a8144378ed93d4\n",
      "089c5cfa0ff527fdb25cd8b0a547e914 2dbdc4ce5d3e752b\n",
      "75b8a444d318c769ae8142b1351a2b3c a8723ba65b8ca827\n",
      "60ff62a1aa6701d0bbd642663cf35d96 729cd4f7b7c92931\n",
      "3f647b14450052251bbda3d4f8e3efd4 afa71fda070402ad\n",
      "3d3687711d33d98a847a34e094cd228d 27b2d210f4142b6b\n",
      "2c8b19dfe58aded2e3a756bfba941558 9ef37b12d94a3da4\n",
      "7ce333ecbbf8ab34a6843e0edeeed7f4 c72121c17578668c\n",
      "696005e9ef76d9ef438c99f21605b322 9085b2dbbae8ede5\n",
      "fc7b495434337ecb3ea080a3f410b0c6 8ed6d435785a2023\n",
      "042e20a01e7080ae8a7a4889208d215f c2d8a1f6b9760cb9\n",
      "b422ff64b04ecee4c169ca01a21f5bcb 57d1f80344df6188\n",
      "382e669299b2ea33fa2288fd7180326a b556d443c16be15e\n",
      "4f3c045b20127210215889331a6ab134 2010f9a1cf1abe18\n",
      "81ec25b2e0093c6f2c2e70da0175a7ea 6eaa89f23ae0762e\n",
      "199ed59000c39dd0844b59d01fa7570c 4a2ce28f1bb8a1fe\n"
     ]
    }
   ],
   "source": [
    "# Test API\n",
    "import requests\n",
    "sql = '''\n",
    "SELECT key, secret\n",
    "FROM API\n",
    "WHERE type = 'flickr'\n",
    "'''\n",
    "database.execute(sql)\n",
    "for api in database.cursor.fetchall():\n",
    "    print(api[0], api[1])"
   ]
  },
  {
   "cell_type": "markdown",
   "metadata": {},
   "source": [
    "# Location"
   ]
  },
  {
   "cell_type": "markdown",
   "metadata": {},
   "source": [
    "CREATE TABLE location  \n",
    "(id SERIAL PRIMARY KEY,  \n",
    "city_name CHARACTER VARYING(100) NOT NULL,  \n",
    "lat FLOAT NOT NULL,  \n",
    "lon FLOAT NOT NULL,  \n",
    "start_query BOOLEAN NOT NULL DEFAULT(FALSE)  \n",
    ");  \n",
    "CREATE INDEX id_index ON location(id);  \n",
    "CREATE INDEX city_name_index ON location(city_name);  \n",
    "CREATE INDEX start_query_index ON location(start_query);  "
   ]
  },
  {
   "cell_type": "code",
   "execution_count": 20,
   "metadata": {},
   "outputs": [],
   "source": [
    "# Import all sampling points\n",
    "file = open('/media/raid/PlaceEmotion/pts200_us.csv', 'r')\n",
    "st = file.read()\n",
    "file.close()\n",
    "sql = '''\n",
    "INSERT INTO location(city_name, lat, lon)\n",
    "VALUES  \n",
    "{0}\n",
    "'''.format(st)\n",
    "#print(sql)\n",
    "database.execute(sql)"
   ]
  },
  {
   "cell_type": "markdown",
   "metadata": {},
   "source": [
    "CREATE TABLE photo  \n",
    "(id BIGINT PRIMARY KEY,  \n",
    "url TEXT NOT NULL,  \n",
    "city CHARACTER VARYING(100) NOT NULL,  \n",
    "face_number INTEGER DEFAULT(NULL),  \n",
    "start_detect BOOLEAN NOT NULL DEFAULT(FALSE),  \n",
    "start_info BOOLEAN NOT NULL DEFAULT(FALSE)  \n",
    ");  \n",
    "CREATE INDEX photo_id_index ON photo(id);  \n",
    "CREATE INDEX photo_start_info_index ON photo(start_info);  \n",
    "CREATE INDEX photo_start_detect_index ON photo(start_detect);  \n",
    "CREATE INDEX photo_face_number_index ON photo(face_number);  "
   ]
  },
  {
   "cell_type": "markdown",
   "metadata": {},
   "source": [
    "CREATE TABLE photo_info  \n",
    "(id BIGINT PRIMARY KEY, \n",
    "owner CHARACTER VARYING (30), \n",
    "owner_location CHARACTER VARYING (30),    \n",
    "lat FLOAT,  \n",
    "lon FLOAT,  \n",
    "photo_take_date DATE,  \n",
    "photo_upload BIGINT,  \n",
    "accuracy INTEGER,  \n",
    "geotag TEXT,  \n",
    "neighbourhood TEXT;\n",
    "locality TEXT;\n",
    "county TEXT;\n",
    "region TEXT;\n",
    "country TEXT;\n",
    ");  \n",
    "CREATE INDEX photo_id_index ON photo(id);  \n",
    "CREATE INDEX photo_lat_index ON photo(lat);  \n",
    "CREATE INDEX photo_lon_index ON photo(lon);  \n",
    "CREATE INDEX photo_date_index ON photo(photo_take_date);  \n",
    "CREATE INDEX photo_f_hasface_index ON photo(f_hasface);  \n",
    "CREATE INDEX photo_start_detect_index ON photo(start_detect);  \n",
    "CREATE INDEX photo_start_info_index ON photo(start_info);  \n",
    "CREATE INDEX photo_start_recog_index ON photo(start_recog);  \n",
    "CREATE INDEX photo_facenum_index ON photo(facenum);  \n",
    "\n",
    "\n",
    "\n",
    "CREATE INDEX photo_lat_index ON photo(lat);  \n",
    "CREATE INDEX photo_lon_index ON photo(lon);  \n",
    "CREATE INDEX photo_date_index ON photo(photo_take_date);  \n",
    "CREATE INDEX photo_f_hasface_index ON photo(f_hasface);  \n",
    "CREATE INDEX photo_start_detect_index ON photo(start_detect);  "
   ]
  },
  {
   "cell_type": "markdown",
   "metadata": {},
   "source": [
    "Four layers framework:  \n",
    "    1. API generation and location selection: return API and lat, lon, city.  \n",
    "    2. collect photo url and id to photo table: input API and lat, lon, city, return photo id and url.  \n",
    "    3. get photo information to photo_info table: input photo id, return photoinfo.  \n",
    "    4. detect photo face info to face table. input photo id, return emotion info."
   ]
  },
  {
   "cell_type": "code",
   "execution_count": null,
   "metadata": {},
   "outputs": [],
   "source": [
    "import datetime\n",
    "DATE=datetime.date(2012,1,1) \n",
    "while(True): \n",
    "    DATE2=DATE+datetime.timedelta(days=10) \n",
    "    datemin =\"{0}-{1}-{2}\".format(DATE.year,DATE.month,DATE.day) \n",
    "    datemax =\"{0}-{1}-{2}\".format(DATE2.year,DATE2.month,DATE2.day) \n",
    "    DATE=DATE+datetime.timedelta(days=10) \n",
    "    print(datemin,datemax) \n",
    "    #get_photo_from_location(db_connection, db_cursor, site, latitude, longitude, datemin, datemax) \n",
    "    if DATE.year==2018 and DATE.month==11: \n",
    "        break "
   ]
  },
  {
   "cell_type": "code",
   "execution_count": null,
   "metadata": {},
   "outputs": [],
   "source": []
  }
 ],
 "metadata": {
  "kernelspec": {
   "display_name": "Python 3",
   "language": "python",
   "name": "python3"
  },
  "language_info": {
   "codemirror_mode": {
    "name": "ipython",
    "version": 3
   },
   "file_extension": ".py",
   "mimetype": "text/x-python",
   "name": "python",
   "nbconvert_exporter": "python",
   "pygments_lexer": "ipython3",
   "version": "3.6.5"
  }
 },
 "nbformat": 4,
 "nbformat_minor": 2
}
