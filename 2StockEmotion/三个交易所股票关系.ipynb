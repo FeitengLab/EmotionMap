{
 "cells": [
  {
   "cell_type": "code",
   "execution_count": null,
   "metadata": {
    "collapsed": true
   },
   "outputs": [],
   "source": [
    "%matplotlib inline\n",
    "import pandas as pd\n",
    "import matplotlib.pyplot as plt\n",
    "import matplotlib\n",
    "matplotlib.style.use('fivethirtyeight')\n",
    "plt.rcParams['figure.figsize'] = (16, 12)"
   ]
  },
  {
   "cell_type": "code",
   "execution_count": null,
   "metadata": {},
   "outputs": [],
   "source": [
    "stock = pd.read_csv('FTSE100_data.txt', sep='\\s+', index_col=0)\n",
    "stock.index = stock.index.astype('datetime64[ns]')\n",
    "s1 = stock['Close']\n",
    "gp1 = stock['Close'].resample('MS').mean()\n",
    "std1 = gp1.std()\n",
    "miu1 = gp1.mean()\n",
    "gp11 = (gp1-miu1) /std1\n",
    "gp11.tail()"
   ]
  },
  {
   "cell_type": "code",
   "execution_count": null,
   "metadata": {},
   "outputs": [],
   "source": [
    "stock = pd.read_csv('N225_data.txt', sep='\\s+', index_col=0)\n",
    "stock.index = stock.index.astype('datetime64[ns]')\n",
    "s2 = stock['Close']\n",
    "gp2 = stock['Close'].resample('MS').mean()\n",
    "std2 = gp2.std()\n",
    "miu2 = gp2.mean()\n",
    "gp22 = (gp2-miu2) /std2\n",
    "gp22.tail()"
   ]
  },
  {
   "cell_type": "code",
   "execution_count": null,
   "metadata": {},
   "outputs": [],
   "source": [
    "stock = pd.read_csv('NASDAQ_data.txt', sep='\\s+', index_col=0)\n",
    "stock.index = stock.index.astype('datetime64[ns]')\n",
    "s3 = stock['Close']\n",
    "gp3 = stock['Close'].resample('MS').mean()\n",
    "std3 = gp3.std()\n",
    "miu3 = gp3.mean()\n",
    "gp33 = (gp3-miu3) /std3\n",
    "gp33.tail()"
   ]
  },
  {
   "cell_type": "code",
   "execution_count": null,
   "metadata": {},
   "outputs": [],
   "source": [
    "df = pd.concat([s1, s2, s3], axis=1, join='inner')\n",
    "df.columns = [\"FTSE100\", \"N225\", \"NASDAQ\"]\n",
    "df.plot()"
   ]
  },
  {
   "cell_type": "code",
   "execution_count": null,
   "metadata": {},
   "outputs": [],
   "source": [
    "df = pd.concat([gp1, gp2, gp3], axis=1, join='inner')\n",
    "df.columns = [\"FTSE100\", \"N225\", \"NASDAQ\"]\n",
    "df.plot()"
   ]
  },
  {
   "cell_type": "code",
   "execution_count": null,
   "metadata": {},
   "outputs": [],
   "source": [
    "df = pd.concat([gp11, gp22, gp33], axis=1, join='inner')\n",
    "df.columns = [\"FTSE100\", \"N225\", \"NASDAQ\"]\n",
    "df.plot()"
   ]
  }
 ],
 "metadata": {
  "kernelspec": {
   "display_name": "Python 3",
   "language": "python",
   "name": "python3"
  },
  "language_info": {
   "codemirror_mode": {
    "name": "ipython",
    "version": 3
   },
   "file_extension": ".py",
   "mimetype": "text/x-python",
   "name": "python",
   "nbconvert_exporter": "python",
   "pygments_lexer": "ipython3",
   "version": "3.5.2"
  }
 },
 "nbformat": 4,
 "nbformat_minor": 2
}
