{
 "cells": [
  {
   "cell_type": "markdown",
   "metadata": {},
   "source": [
    "Here I will using scikit-learn to perform PCA in Jupyter Notebook.\n",
    "\n",
    "First, I need some example to get familiar with this"
   ]
  },
  {
   "cell_type": "markdown",
   "metadata": {},
   "source": [
    "Get our data and analysis it"
   ]
  },
  {
   "cell_type": "code",
   "execution_count": 10,
   "metadata": {},
   "outputs": [],
   "source": [
    "import numpy as np\n",
    "from sklearn.decomposition import PCA\n",
    "import pandas as pd"
   ]
  },
  {
   "cell_type": "code",
   "execution_count": null,
   "metadata": {
    "collapsed": true
   },
   "outputs": [],
   "source": [
    "df = pd.read_csv('Tokyo.txt', sep='\\s+')\n",
    "# df.drop('id', axis=1, inplace=True) # 数据不像Manhattan，前期已经去除id项\n",
    "df.tail()"
   ]
  },
  {
   "cell_type": "markdown",
   "metadata": {},
   "source": [
    "how to index a given part of a DataFrame have been a problem for me. \n",
    "\n",
    "Refer `pandas/html/10min.html#selection-by-position` to keep in mind(link to file outside this dir not work well)\n",
    "`file:///C:/work/python/%E6%96%87%E6%A1%A3/pandas/html/10min.html#selection-by-position`"
   ]
  },
  {
   "cell_type": "code",
   "execution_count": 7,
   "metadata": {},
   "outputs": [
    {
     "data": {
      "text/html": [
       "<div>\n",
       "<style>\n",
       "    .dataframe thead tr:only-child th {\n",
       "        text-align: right;\n",
       "    }\n",
       "\n",
       "    .dataframe thead th {\n",
       "        text-align: left;\n",
       "    }\n",
       "\n",
       "    .dataframe tbody tr th {\n",
       "        vertical-align: top;\n",
       "    }\n",
       "</style>\n",
       "<table border=\"1\" class=\"dataframe\">\n",
       "  <thead>\n",
       "    <tr style=\"text-align: right;\">\n",
       "      <th></th>\n",
       "      <th>anger</th>\n",
       "      <th>contempt</th>\n",
       "      <th>disgust</th>\n",
       "      <th>fear</th>\n",
       "      <th>happiness</th>\n",
       "      <th>neutral</th>\n",
       "      <th>sadness</th>\n",
       "      <th>surprise</th>\n",
       "    </tr>\n",
       "  </thead>\n",
       "  <tbody>\n",
       "    <tr>\n",
       "      <th>159605</th>\n",
       "      <td>0.000329</td>\n",
       "      <td>7.734480e-04</td>\n",
       "      <td>4.670549e-04</td>\n",
       "      <td>1.021171e-03</td>\n",
       "      <td>0.000523</td>\n",
       "      <td>9.681706e-01</td>\n",
       "      <td>2.022196e-02</td>\n",
       "      <td>0.008494</td>\n",
       "    </tr>\n",
       "    <tr>\n",
       "      <th>159606</th>\n",
       "      <td>0.000573</td>\n",
       "      <td>1.311513e-02</td>\n",
       "      <td>1.995140e-04</td>\n",
       "      <td>2.309755e-04</td>\n",
       "      <td>0.713370</td>\n",
       "      <td>2.674879e-01</td>\n",
       "      <td>1.450483e-03</td>\n",
       "      <td>0.003573</td>\n",
       "    </tr>\n",
       "    <tr>\n",
       "      <th>159607</th>\n",
       "      <td>0.000001</td>\n",
       "      <td>4.914434e-09</td>\n",
       "      <td>3.858178e-09</td>\n",
       "      <td>4.448203e-06</td>\n",
       "      <td>0.999801</td>\n",
       "      <td>3.878443e-07</td>\n",
       "      <td>1.792386e-09</td>\n",
       "      <td>0.000193</td>\n",
       "    </tr>\n",
       "    <tr>\n",
       "      <th>159608</th>\n",
       "      <td>0.000007</td>\n",
       "      <td>2.074236e-10</td>\n",
       "      <td>6.051371e-07</td>\n",
       "      <td>2.411453e-07</td>\n",
       "      <td>0.999988</td>\n",
       "      <td>1.784350e-09</td>\n",
       "      <td>4.871895e-09</td>\n",
       "      <td>0.000004</td>\n",
       "    </tr>\n",
       "    <tr>\n",
       "      <th>159609</th>\n",
       "      <td>0.000680</td>\n",
       "      <td>2.969420e-07</td>\n",
       "      <td>6.141732e-03</td>\n",
       "      <td>9.449401e-08</td>\n",
       "      <td>0.993167</td>\n",
       "      <td>1.266541e-06</td>\n",
       "      <td>7.655694e-06</td>\n",
       "      <td>0.000002</td>\n",
       "    </tr>\n",
       "  </tbody>\n",
       "</table>\n",
       "</div>"
      ],
      "text/plain": [
       "           anger      contempt       disgust          fear  happiness  \\\n",
       "159605  0.000329  7.734480e-04  4.670549e-04  1.021171e-03   0.000523   \n",
       "159606  0.000573  1.311513e-02  1.995140e-04  2.309755e-04   0.713370   \n",
       "159607  0.000001  4.914434e-09  3.858178e-09  4.448203e-06   0.999801   \n",
       "159608  0.000007  2.074236e-10  6.051371e-07  2.411453e-07   0.999988   \n",
       "159609  0.000680  2.969420e-07  6.141732e-03  9.449401e-08   0.993167   \n",
       "\n",
       "             neutral       sadness  surprise  \n",
       "159605  9.681706e-01  2.022196e-02  0.008494  \n",
       "159606  2.674879e-01  1.450483e-03  0.003573  \n",
       "159607  3.878443e-07  1.792386e-09  0.000193  \n",
       "159608  1.784350e-09  4.871895e-09  0.000004  \n",
       "159609  1.266541e-06  7.655694e-06  0.000002  "
      ]
     },
     "execution_count": 7,
     "metadata": {},
     "output_type": "execute_result"
    }
   ],
   "source": [
    "tdf = df.iloc[:, 1:-2]\n",
    "tdf.tail()"
   ]
  },
  {
   "cell_type": "markdown",
   "metadata": {},
   "source": [
    "取一个主成分， 解释方差0.917864"
   ]
  },
  {
   "cell_type": "code",
   "execution_count": 9,
   "metadata": {},
   "outputs": [
    {
     "name": "stdout",
     "output_type": "stream",
     "text": [
      "各主成份方差贡献占比： [ 0.9177    0.050769  0.019772  0.007842  0.002517  0.000787  0.000612  0.      ]\n"
     ]
    }
   ],
   "source": [
    "pca = PCA(n_components=8)\n",
    "pca.fit(tdf)\n",
    "np.set_printoptions(precision=6, suppress=True)\n",
    "\n",
    "print('各主成份方差贡献占比：', end=' ')\n",
    "print(pca.explained_variance_ratio_)\n",
    "\n",
    "emotion_score = pd.DataFrame(pca.transform(tdf))\n",
    "# 第一个主成份\n",
    "pd.concat([df, emotion_score.loc[:, 0]], axis=1, join='inner').rename(index=str, columns={0: 'emotion_score'}).to_csv('Tokyo_score_raw.txt', index=None, sep='\\t')"
   ]
  }
 ],
 "metadata": {
  "kernelspec": {
   "display_name": "Python 3",
   "language": "python",
   "name": "python3"
  },
  "language_info": {
   "codemirror_mode": {
    "name": "ipython",
    "version": 3
   },
   "file_extension": ".py",
   "mimetype": "text/x-python",
   "name": "python",
   "nbconvert_exporter": "python",
   "pygments_lexer": "ipython3",
   "version": "3.5.2"
  }
 },
 "nbformat": 4,
 "nbformat_minor": 2
}
