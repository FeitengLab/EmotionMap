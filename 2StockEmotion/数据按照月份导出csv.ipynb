{
 "cells": [
  {
   "cell_type": "code",
   "execution_count": null,
   "metadata": {
    "collapsed": true
   },
   "outputs": [],
   "source": [
    "import pandas as pd\n",
    "stock = pd.read_csv('N225_data.txt', sep='\\s+', index_col=0)\n",
    "stock.index = stock.index.astype('datetime64[ns]')\n",
    "stock.tail()\n",
    "stock.resample('MS').mean().to_csv('N225_data_monthly.txt', sep='\\t')"
   ]
  },
  {
   "cell_type": "code",
   "execution_count": null,
   "metadata": {
    "collapsed": true
   },
   "outputs": [],
   "source": [
    "import pandas as pd\n",
    "stock = pd.read_csv('FTSE100_data.txt', sep='\\s+', index_col=0)\n",
    "stock.index = stock.index.astype('datetime64[ns]')\n",
    "stock.tail()\n",
    "stock.resample('MS').mean().to_csv('FTSE100_data_monthly.txt', sep='\\t')"
   ]
  }
 ],
 "metadata": {
  "kernelspec": {
   "display_name": "Python 3",
   "language": "python",
   "name": "python3"
  },
  "language_info": {
   "codemirror_mode": {
    "name": "ipython",
    "version": 3
   },
   "file_extension": ".py",
   "mimetype": "text/x-python",
   "name": "python",
   "nbconvert_exporter": "python",
   "pygments_lexer": "ipython3",
   "version": "3.5.2"
  }
 },
 "nbformat": 4,
 "nbformat_minor": 2
}
