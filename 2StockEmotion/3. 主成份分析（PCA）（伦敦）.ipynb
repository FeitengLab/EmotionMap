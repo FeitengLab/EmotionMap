{
 "cells": [
  {
   "cell_type": "markdown",
   "metadata": {},
   "source": [
    "Here I will using scikit-learn to perform PCA in Jupyter Notebook.\n",
    "\n",
    "First, I need some example to get familiar with this"
   ]
  },
  {
   "cell_type": "markdown",
   "metadata": {},
   "source": [
    "Get our data and analysis it"
   ]
  },
  {
   "cell_type": "code",
   "execution_count": 1,
   "metadata": {
    "collapsed": true
   },
   "outputs": [],
   "source": [
    "import numpy as np\n",
    "from sklearn.decomposition import PCA\n",
    "import pandas as pd"
   ]
  },
  {
   "cell_type": "code",
   "execution_count": 2,
   "metadata": {},
   "outputs": [
    {
     "data": {
      "text/html": [
       "<div>\n",
       "<style>\n",
       "    .dataframe thead tr:only-child th {\n",
       "        text-align: right;\n",
       "    }\n",
       "\n",
       "    .dataframe thead th {\n",
       "        text-align: left;\n",
       "    }\n",
       "\n",
       "    .dataframe tbody tr th {\n",
       "        vertical-align: top;\n",
       "    }\n",
       "</style>\n",
       "<table border=\"1\" class=\"dataframe\">\n",
       "  <thead>\n",
       "    <tr style=\"text-align: right;\">\n",
       "      <th></th>\n",
       "      <th>photo_take_date</th>\n",
       "      <th>anger</th>\n",
       "      <th>contempt</th>\n",
       "      <th>disgust</th>\n",
       "      <th>fear</th>\n",
       "      <th>happiness</th>\n",
       "      <th>neutral</th>\n",
       "      <th>sadness</th>\n",
       "      <th>surprise</th>\n",
       "      <th>lat</th>\n",
       "      <th>lon</th>\n",
       "    </tr>\n",
       "  </thead>\n",
       "  <tbody>\n",
       "    <tr>\n",
       "      <th>510139</th>\n",
       "      <td>2012-04-27</td>\n",
       "      <td>0.002571</td>\n",
       "      <td>0.034591</td>\n",
       "      <td>0.003117</td>\n",
       "      <td>7.541410e-04</td>\n",
       "      <td>0.077213</td>\n",
       "      <td>0.639780</td>\n",
       "      <td>0.001574</td>\n",
       "      <td>0.240400</td>\n",
       "      <td>51.507246</td>\n",
       "      <td>-0.125999</td>\n",
       "    </tr>\n",
       "    <tr>\n",
       "      <th>510140</th>\n",
       "      <td>2012-04-27</td>\n",
       "      <td>0.000804</td>\n",
       "      <td>0.002184</td>\n",
       "      <td>0.001057</td>\n",
       "      <td>5.632771e-04</td>\n",
       "      <td>0.000690</td>\n",
       "      <td>0.691425</td>\n",
       "      <td>0.301772</td>\n",
       "      <td>0.001505</td>\n",
       "      <td>51.507246</td>\n",
       "      <td>-0.125999</td>\n",
       "    </tr>\n",
       "    <tr>\n",
       "      <th>510141</th>\n",
       "      <td>2012-07-23</td>\n",
       "      <td>0.000004</td>\n",
       "      <td>0.000258</td>\n",
       "      <td>0.000001</td>\n",
       "      <td>5.163571e-07</td>\n",
       "      <td>0.983578</td>\n",
       "      <td>0.016082</td>\n",
       "      <td>0.000053</td>\n",
       "      <td>0.000023</td>\n",
       "      <td>51.504600</td>\n",
       "      <td>-0.175050</td>\n",
       "    </tr>\n",
       "    <tr>\n",
       "      <th>510142</th>\n",
       "      <td>2012-07-23</td>\n",
       "      <td>0.000763</td>\n",
       "      <td>0.003948</td>\n",
       "      <td>0.002667</td>\n",
       "      <td>1.764461e-05</td>\n",
       "      <td>0.928100</td>\n",
       "      <td>0.062454</td>\n",
       "      <td>0.001908</td>\n",
       "      <td>0.000142</td>\n",
       "      <td>51.504600</td>\n",
       "      <td>-0.175050</td>\n",
       "    </tr>\n",
       "    <tr>\n",
       "      <th>510143</th>\n",
       "      <td>2013-05-04</td>\n",
       "      <td>0.000004</td>\n",
       "      <td>0.000077</td>\n",
       "      <td>0.000021</td>\n",
       "      <td>1.498473e-07</td>\n",
       "      <td>0.998305</td>\n",
       "      <td>0.001584</td>\n",
       "      <td>0.000001</td>\n",
       "      <td>0.000008</td>\n",
       "      <td>51.539072</td>\n",
       "      <td>-0.058398</td>\n",
       "    </tr>\n",
       "  </tbody>\n",
       "</table>\n",
       "</div>"
      ],
      "text/plain": [
       "       photo_take_date     anger  contempt   disgust          fear  happiness  \\\n",
       "510139      2012-04-27  0.002571  0.034591  0.003117  7.541410e-04   0.077213   \n",
       "510140      2012-04-27  0.000804  0.002184  0.001057  5.632771e-04   0.000690   \n",
       "510141      2012-07-23  0.000004  0.000258  0.000001  5.163571e-07   0.983578   \n",
       "510142      2012-07-23  0.000763  0.003948  0.002667  1.764461e-05   0.928100   \n",
       "510143      2013-05-04  0.000004  0.000077  0.000021  1.498473e-07   0.998305   \n",
       "\n",
       "         neutral   sadness  surprise        lat       lon  \n",
       "510139  0.639780  0.001574  0.240400  51.507246 -0.125999  \n",
       "510140  0.691425  0.301772  0.001505  51.507246 -0.125999  \n",
       "510141  0.016082  0.000053  0.000023  51.504600 -0.175050  \n",
       "510142  0.062454  0.001908  0.000142  51.504600 -0.175050  \n",
       "510143  0.001584  0.000001  0.000008  51.539072 -0.058398  "
      ]
     },
     "execution_count": 2,
     "metadata": {},
     "output_type": "execute_result"
    }
   ],
   "source": [
    "df = pd.read_csv('London.txt', sep='\\s+')\n",
    "# df.drop('id', axis=1, inplace=True) # 数据不像Manhattan，前期已经去除id项\n",
    "df.tail()"
   ]
  },
  {
   "cell_type": "markdown",
   "metadata": {},
   "source": [
    "how to index a given part of a DataFrame have been a problem for me. \n",
    "\n",
    "Refer `pandas/html/10min.html#selection-by-position` to keep in mind(link to file outside this dir not work well)\n",
    "`file:///C:/work/python/%E6%96%87%E6%A1%A3/pandas/html/10min.html#selection-by-position`"
   ]
  },
  {
   "cell_type": "code",
   "execution_count": 3,
   "metadata": {},
   "outputs": [
    {
     "data": {
      "text/html": [
       "<div>\n",
       "<style>\n",
       "    .dataframe thead tr:only-child th {\n",
       "        text-align: right;\n",
       "    }\n",
       "\n",
       "    .dataframe thead th {\n",
       "        text-align: left;\n",
       "    }\n",
       "\n",
       "    .dataframe tbody tr th {\n",
       "        vertical-align: top;\n",
       "    }\n",
       "</style>\n",
       "<table border=\"1\" class=\"dataframe\">\n",
       "  <thead>\n",
       "    <tr style=\"text-align: right;\">\n",
       "      <th></th>\n",
       "      <th>anger</th>\n",
       "      <th>contempt</th>\n",
       "      <th>disgust</th>\n",
       "      <th>fear</th>\n",
       "      <th>happiness</th>\n",
       "      <th>neutral</th>\n",
       "      <th>sadness</th>\n",
       "      <th>surprise</th>\n",
       "    </tr>\n",
       "  </thead>\n",
       "  <tbody>\n",
       "    <tr>\n",
       "      <th>510139</th>\n",
       "      <td>0.002571</td>\n",
       "      <td>0.034591</td>\n",
       "      <td>0.003117</td>\n",
       "      <td>7.541410e-04</td>\n",
       "      <td>0.077213</td>\n",
       "      <td>0.639780</td>\n",
       "      <td>0.001574</td>\n",
       "      <td>0.240400</td>\n",
       "    </tr>\n",
       "    <tr>\n",
       "      <th>510140</th>\n",
       "      <td>0.000804</td>\n",
       "      <td>0.002184</td>\n",
       "      <td>0.001057</td>\n",
       "      <td>5.632771e-04</td>\n",
       "      <td>0.000690</td>\n",
       "      <td>0.691425</td>\n",
       "      <td>0.301772</td>\n",
       "      <td>0.001505</td>\n",
       "    </tr>\n",
       "    <tr>\n",
       "      <th>510141</th>\n",
       "      <td>0.000004</td>\n",
       "      <td>0.000258</td>\n",
       "      <td>0.000001</td>\n",
       "      <td>5.163571e-07</td>\n",
       "      <td>0.983578</td>\n",
       "      <td>0.016082</td>\n",
       "      <td>0.000053</td>\n",
       "      <td>0.000023</td>\n",
       "    </tr>\n",
       "    <tr>\n",
       "      <th>510142</th>\n",
       "      <td>0.000763</td>\n",
       "      <td>0.003948</td>\n",
       "      <td>0.002667</td>\n",
       "      <td>1.764461e-05</td>\n",
       "      <td>0.928100</td>\n",
       "      <td>0.062454</td>\n",
       "      <td>0.001908</td>\n",
       "      <td>0.000142</td>\n",
       "    </tr>\n",
       "    <tr>\n",
       "      <th>510143</th>\n",
       "      <td>0.000004</td>\n",
       "      <td>0.000077</td>\n",
       "      <td>0.000021</td>\n",
       "      <td>1.498473e-07</td>\n",
       "      <td>0.998305</td>\n",
       "      <td>0.001584</td>\n",
       "      <td>0.000001</td>\n",
       "      <td>0.000008</td>\n",
       "    </tr>\n",
       "  </tbody>\n",
       "</table>\n",
       "</div>"
      ],
      "text/plain": [
       "           anger  contempt   disgust          fear  happiness   neutral  \\\n",
       "510139  0.002571  0.034591  0.003117  7.541410e-04   0.077213  0.639780   \n",
       "510140  0.000804  0.002184  0.001057  5.632771e-04   0.000690  0.691425   \n",
       "510141  0.000004  0.000258  0.000001  5.163571e-07   0.983578  0.016082   \n",
       "510142  0.000763  0.003948  0.002667  1.764461e-05   0.928100  0.062454   \n",
       "510143  0.000004  0.000077  0.000021  1.498473e-07   0.998305  0.001584   \n",
       "\n",
       "         sadness  surprise  \n",
       "510139  0.001574  0.240400  \n",
       "510140  0.301772  0.001505  \n",
       "510141  0.000053  0.000023  \n",
       "510142  0.001908  0.000142  \n",
       "510143  0.000001  0.000008  "
      ]
     },
     "execution_count": 3,
     "metadata": {},
     "output_type": "execute_result"
    }
   ],
   "source": [
    "tdf = df.iloc[:, 1:-2]\n",
    "tdf.tail()"
   ]
  },
  {
   "cell_type": "markdown",
   "metadata": {},
   "source": [
    "取一个主成分， 解释方差0.917864"
   ]
  },
  {
   "cell_type": "code",
   "execution_count": 4,
   "metadata": {},
   "outputs": [
    {
     "name": "stdout",
     "output_type": "stream",
     "text": [
      "各主成份方差贡献占比： [ 0.910407  0.054714  0.018479  0.011135  0.002794  0.001424  0.001046  0.      ]\n"
     ]
    }
   ],
   "source": [
    "pca = PCA(n_components=8)\n",
    "pca.fit(tdf)\n",
    "np.set_printoptions(precision=6, suppress=True)\n",
    "\n",
    "print('各主成份方差贡献占比：', end=' ')\n",
    "print(pca.explained_variance_ratio_)\n",
    "\n",
    "emotion_score = pd.DataFrame(pca.transform(tdf))\n",
    "# 第一个主成份\n",
    "pd.concat([df, emotion_score.loc[:, 0]], axis=1, join='inner').rename(index=str, columns={0: 'emotion_score'}).to_csv('London_score_raw.txt', index=None, sep='\\t')"
   ]
  }
 ],
 "metadata": {
  "kernelspec": {
   "display_name": "Python 3",
   "language": "python",
   "name": "python3"
  },
  "language_info": {
   "codemirror_mode": {
    "name": "ipython",
    "version": 3
   },
   "file_extension": ".py",
   "mimetype": "text/x-python",
   "name": "python",
   "nbconvert_exporter": "python",
   "pygments_lexer": "ipython3",
   "version": "3.5.2"
  }
 },
 "nbformat": 4,
 "nbformat_minor": 2
}
