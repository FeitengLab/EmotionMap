{
 "cells": [
  {
   "cell_type": "markdown",
   "metadata": {},
   "source": [
    "载入数据，分别为带有八个情绪值的数据和带有特征向量的程序，这里还是按照惯例，只取第一个主成分"
   ]
  },
  {
   "cell_type": "code",
   "execution_count": 1,
   "metadata": {},
   "outputs": [
    {
     "name": "stdout",
     "output_type": "stream",
     "text": [
      "[[  2.94977650e-02   6.32542600e-02   1.58937648e-01 ...,   5.34864700e-01\n",
      "    4.50846255e-02   6.10920275e-03]\n",
      " [  2.07860875e-08   2.83108278e-07   3.44796156e-08 ...,   4.15872228e-06\n",
      "    1.86794455e-06   1.06970367e-06]\n",
      " [  2.37131289e-07   2.00308534e-08   1.15379200e-06 ...,   1.95574472e-07\n",
      "    7.80705900e-09   1.46820881e-07]\n",
      " ..., \n",
      " [  1.25132249e-06   4.91443375e-09   3.85817800e-09 ...,   3.87844267e-07\n",
      "    1.79238600e-09   1.93247746e-04]\n",
      " [  7.19531800e-06   2.07423648e-10   6.05137100e-07 ...,   1.78435000e-09\n",
      "    4.87189533e-09   4.19917023e-06]\n",
      " [  6.79612200e-04   2.96942034e-07   6.14173200e-03 ...,   1.26654129e-06\n",
      "    7.65569400e-06   1.85591432e-06]]\n",
      "[[  4.28708832e-03]\n",
      " [  4.36540036e-03]\n",
      " [  4.47904189e-04]\n",
      " [  9.17994181e-04]\n",
      " [ -7.28061114e-01]\n",
      " [  6.85021302e-01]\n",
      " [  2.31869183e-02]\n",
      " [  9.83450729e-03]]\n"
     ]
    }
   ],
   "source": [
    "import pandas as pd\n",
    "import numpy as np\n",
    "\n",
    "t = np.loadtxt('Tokyo_for_pca.txt', delimiter='\\t')\n",
    "ev = np.loadtxt('Tokyo_eigenvector.txt')\n",
    "print(t)\n",
    "print(ev[0][:, None])\n",
    "emotion_score = t @ ev[0][:, None]\n",
    "np.savetxt('Tokyo_Emotion_Score_raw.txt', emotion_score, fmt='%.6f', newline='\\r\\n')\n",
    "std = emotion_score.std()\n",
    "miu = emotion_score.mean()\n",
    "emotion_score = (emotion_score-miu)/std\n",
    "np.savetxt('Tokyo_Emotion_Score.txt', emotion_score, fmt='%.6f', newline='\\r\\n')\n"
   ]
  },
  {
   "cell_type": "code",
   "execution_count": 2,
   "metadata": {},
   "outputs": [
    {
     "name": "stdout",
     "output_type": "stream",
     "text": [
      "[[  6.15304200e-08   2.92751600e-12   2.05906900e-09 ...,   8.91978200e-11\n",
      "    1.41929411e-11   1.02388200e-06]\n",
      " [  4.23797843e-04   4.75163274e-02   1.02264326e-04 ...,   9.07797800e-01\n",
      "    1.49121368e-03   6.03789800e-04]\n",
      " [  4.16634800e-04   3.65026621e-03   1.90681100e-06 ...,   9.95738500e-01\n",
      "    7.61212600e-05   6.73715549e-05]\n",
      " ..., \n",
      " [  4.35896845e-06   2.58158660e-04   1.17932300e-06 ...,   1.60823100e-02\n",
      "    5.28138153e-05   2.30159021e-05]\n",
      " [  7.63164950e-04   3.94848827e-03   2.66677800e-03 ...,   6.24537840e-02\n",
      "    1.90806075e-03   1.42359437e-04]\n",
      " [  4.35462600e-06   7.67171800e-05   2.10741200e-05 ...,   1.58389611e-03\n",
      "    1.32825312e-06   7.80075000e-06]]\n",
      "[[ 0.01057622]\n",
      " [ 0.0047583 ]\n",
      " [ 0.00305086]\n",
      " [ 0.00142435]\n",
      " [-0.73480252]\n",
      " [ 0.67763143]\n",
      " [ 0.02298947]\n",
      " [ 0.01437187]]\n"
     ]
    }
   ],
   "source": [
    "t = np.loadtxt('London_for_pca.txt', delimiter='\\t')\n",
    "ev = np.loadtxt('London_eigenvector.txt')\n",
    "print(t)\n",
    "print(ev[0][:, None])\n",
    "emotion_score = t @ ev[0][:, None]\n",
    "np.savetxt('London_Emotion_Score_raw.txt', emotion_score, fmt='%.6f', newline='\\r\\n')\n",
    "std = emotion_score.std()\n",
    "miu = emotion_score.mean()\n",
    "emotion_score = (emotion_score-miu)/std\n",
    "np.savetxt('London_Emotion_Score.txt', emotion_score, fmt='%.6f', newline='\\r\\n')"
   ]
  },
  {
   "cell_type": "code",
   "execution_count": null,
   "metadata": {
    "collapsed": true
   },
   "outputs": [],
   "source": [
    "t = np.loadtxt('Manhattan_for_pca.txt', delimiter='\\t')\n",
    "ev = np.loadtxt('Tokyo_eigenvector.txt')\n",
    "print(t)\n",
    "print(ev[0][:, None])\n",
    "emotion_score = t @ ev[0][:, None]\n",
    "np.savetxt('Tokyo_Emotion_Score_raw.txt', emotion_score, fmt='%.6f', newline='\\r\\n')\n",
    "std = emotion_score.std()\n",
    "miu = emotion_score.mean()\n",
    "emotion_score = (emotion_score-miu)/std\n",
    "np.savetxt('Tokyo_Emotion_Score.txt', emotion_score, fmt='%.6f', newline='\\r\\n')"
   ]
  }
 ],
 "metadata": {
  "kernelspec": {
   "display_name": "Python 3",
   "language": "python",
   "name": "python3"
  },
  "language_info": {
   "codemirror_mode": {
    "name": "ipython",
    "version": 3
   },
   "file_extension": ".py",
   "mimetype": "text/x-python",
   "name": "python",
   "nbconvert_exporter": "python",
   "pygments_lexer": "ipython3",
   "version": "3.5.2"
  }
 },
 "nbformat": 4,
 "nbformat_minor": 2
}
