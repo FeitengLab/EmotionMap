{
 "cells": [
  {
   "cell_type": "markdown",
   "metadata": {},
   "source": [
    "检查结果： 数据检查完毕，这次没有发现有坐标异常点（有的注释是之前初步检查时发现的，彼时信息不全，当信息补充完整后，问题数据应该都被删掉了）"
   ]
  },
  {
   "cell_type": "code",
   "execution_count": null,
   "metadata": {
    "collapsed": true
   },
   "outputs": [],
   "source": [
    "%matplotlib inline\n",
    "import pandas as pd\n",
    "import matplotlib.pyplot as plt\n",
    "import numpy as np\n",
    "from matplotlib import cm\n",
    "plt.rcParams['figure.figsize'] = (16 ,12)"
   ]
  },
  {
   "cell_type": "code",
   "execution_count": null,
   "metadata": {
    "scrolled": false
   },
   "outputs": [],
   "source": [
    "df = pd.read_csv('Tokyo.txt', delimiter='\\s+')\n",
    "for i in [10, 15, 18, 20, 25]:\n",
    "    fig, ax = plt.subplots()\n",
    "    cmap = cm.get_cmap('BuGn')\n",
    "    ax = df.plot.hexbin(x='lon', y='lat', gridsize=i, sharex=False, ax=ax, cmap=cmap,  vmin=0, vmax=10000)\n",
    "    plt.title('tokyo')\n",
    "    plt.show()\n",
    "#     fig.savefig('tokyo{}.png'.format(i))\n",
    "# 运行此程序发现有一个东经138度的异常点，手工去除后，重新运行\n",
    "# 最红的几个点，从左下到右上三个点分别为涩谷区， 东京证券交易所， 不明\n",
    "# 中心点： 35.68, 139.78\n",
    "# 35.66, 139.7   35.7, 139.77 35.715, 139.8"
   ]
  },
  {
   "cell_type": "code",
   "execution_count": null,
   "metadata": {
    "scrolled": false
   },
   "outputs": [],
   "source": [
    "df2 = pd.read_csv('London.txt', delimiter='\\s+')\n",
    "for i in [10, 15, 18, 20, 25]:\n",
    "    cmap = cm.get_cmap('BuGn')\n",
    "    fig, ax = plt.subplots()\n",
    "    df2.plot.hexbin(x='lon', y='lat', gridsize=i, sharex=False, ax=ax, cmap=cmap, vmin=0, vmax=50000)\n",
    "    # df2.plot.scatter(x='lon', y='lat', sharex=False) #用于检测异常值， 共检测到至少三个异常点，需要剔除\n",
    "    plt.title('london')\n",
    "    plt.show()\n",
    "#     fig.savefig('london{}.png'.format(i))\n",
    "# 中心点： 51.515, -0.10\n",
    "# 51.51, -0.13 周围名胜很多， 位于白金汉宫和大英博物馆的中间"
   ]
  }
 ],
 "metadata": {
  "kernelspec": {
   "display_name": "Python 3",
   "language": "python",
   "name": "python3"
  },
  "language_info": {
   "codemirror_mode": {
    "name": "ipython",
    "version": 3
   },
   "file_extension": ".py",
   "mimetype": "text/x-python",
   "name": "python",
   "nbconvert_exporter": "python",
   "pygments_lexer": "ipython3",
   "version": "3.5.2"
  }
 },
 "nbformat": 4,
 "nbformat_minor": 2
}
