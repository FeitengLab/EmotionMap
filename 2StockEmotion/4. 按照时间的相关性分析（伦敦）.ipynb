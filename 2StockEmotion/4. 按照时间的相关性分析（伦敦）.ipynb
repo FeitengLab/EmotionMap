{
 "cells": [
  {
   "cell_type": "code",
   "execution_count": null,
   "metadata": {
    "collapsed": true
   },
   "outputs": [],
   "source": [
    "%matplotlib inline\n",
    "import pandas as pd\n",
    "import matplotlib.pyplot as plt\n",
    "import matplotlib\n",
    "matplotlib.style.use('fivethirtyeight')\n",
    "plt.rcParams['figure.figsize'] = (16, 12)"
   ]
  },
  {
   "cell_type": "code",
   "execution_count": null,
   "metadata": {},
   "outputs": [],
   "source": [
    "emotion_score = pd.read_csv('London_score_raw.txt', index_col=0, sep='\\s+')\n",
    "emotion_score.index = emotion_score.index.astype('datetime64[ns]')\n",
    "emotion_score.tail()"
   ]
  },
  {
   "cell_type": "code",
   "execution_count": null,
   "metadata": {},
   "outputs": [],
   "source": [
    "stock = pd.read_csv('FTSE100_data.txt', sep='\\s+', index_col=0)\n",
    "stock.index = stock.index.astype('datetime64[ns]')\n",
    "stock.tail()"
   ]
  },
  {
   "cell_type": "markdown",
   "metadata": {},
   "source": [
    "数据读入完毕，开始按照一定的时间段进行汇总并计算相关性"
   ]
  },
  {
   "cell_type": "markdown",
   "metadata": {},
   "source": [
    "按照周来进行相关（之前有考虑过照片过少而导致的拟合的问题，现在先不考虑这个情况）  \n",
    "`count = emotion_score['emotion_score'].resample('MS').count()`"
   ]
  },
  {
   "cell_type": "code",
   "execution_count": null,
   "metadata": {},
   "outputs": [],
   "source": [
    "gp1 = emotion_score['emotion_score'].resample('MS').mean()\n",
    "std1 = gp1.std()\n",
    "miu1 = gp1.mean()\n",
    "gp11 = (gp1-miu1)/std1  ## 此处进行了汇总之后才进行了归一化，如果不做汇总，归一化结果图像是沿着坐标中紧密波动的\n",
    "gp11.tail()"
   ]
  },
  {
   "cell_type": "code",
   "execution_count": null,
   "metadata": {},
   "outputs": [],
   "source": [
    "gp2 = stock['Close'].resample('MS').mean()\n",
    "std2 = gp2.std()\n",
    "miu2 = gp2.mean()\n",
    "gp22 = (gp2-miu2) /std2\n",
    "gp22.tail()"
   ]
  },
  {
   "cell_type": "code",
   "execution_count": null,
   "metadata": {},
   "outputs": [],
   "source": [
    "df = pd.concat([-gp11, gp22], axis=1, join='inner')\n",
    "df.plot()\n",
    "print(\"相关系数 为 {}\".format(df.corr()['emotion_score']['Close']))"
   ]
  }
 ],
 "metadata": {
  "kernelspec": {
   "display_name": "Python 3",
   "language": "python",
   "name": "python3"
  },
  "language_info": {
   "codemirror_mode": {
    "name": "ipython",
    "version": 3
   },
   "file_extension": ".py",
   "mimetype": "text/x-python",
   "name": "python",
   "nbconvert_exporter": "python",
   "pygments_lexer": "ipython3",
   "version": "3.5.2"
  }
 },
 "nbformat": 4,
 "nbformat_minor": 2
}
