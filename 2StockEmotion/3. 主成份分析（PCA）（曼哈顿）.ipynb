{
 "cells": [
  {
   "cell_type": "markdown",
   "metadata": {},
   "source": [
    "Here I will using scikit-learn to perform PCA in Jupyter Notebook.\n",
    "\n",
    "First, I need some example to get familiar with this"
   ]
  },
  {
   "cell_type": "markdown",
   "metadata": {},
   "source": [
    "Get our data and analysis it"
   ]
  },
  {
   "cell_type": "code",
   "execution_count": null,
   "metadata": {},
   "outputs": [],
   "source": [
    "import numpy as np\n",
    "from sklearn.decomposition import PCA\n",
    "import pandas as pd\n",
    "df = pd.read_csv('Manhattan.txt', sep='\\s+')\n",
    "df.drop('id', axis=1, inplace=True)\n",
    "df.tail()"
   ]
  },
  {
   "cell_type": "markdown",
   "metadata": {},
   "source": [
    "how to index a given part of a DataFrame have been a problem for me. \n",
    "\n",
    "Refer `pandas/html/10min.html#selection-by-position` to keep in mind(link to file outside this dir not work well)\n",
    "`file:///C:/work/python/%E6%96%87%E6%A1%A3/pandas/html/10min.html#selection-by-position`"
   ]
  },
  {
   "cell_type": "code",
   "execution_count": null,
   "metadata": {},
   "outputs": [],
   "source": [
    "tdf = df.iloc[:, 0:-3]\n",
    "tdf.tail()"
   ]
  },
  {
   "cell_type": "markdown",
   "metadata": {},
   "source": [
    "取一个主成分， 解释方差0.917864"
   ]
  },
  {
   "cell_type": "code",
   "execution_count": null,
   "metadata": {},
   "outputs": [],
   "source": [
    "pca = PCA(n_components=8)\n",
    "pca.fit(tdf)\n",
    "np.set_printoptions(precision=6, suppress=True)\n",
    "\n",
    "print('各主成份方差贡献占比：', end=' ')\n",
    "print(pca.explained_variance_ratio_)\n",
    "\n",
    "emotion_score = pd.DataFrame(pca.transform(tdf))\n",
    "emotion_score.rename(columns={'0': 'emotion_score'}, inplace=True)\n",
    "# 第一个主成份\n",
    "pd.concat([df, emotion_score.loc[:, 0]], axis=1, join='inner').rename(index=str, columns={0: 'emotion_score'}).to_csv('Manhattan_score_raw.txt', index=None, sep='\\t')\n"
   ]
  }
 ],
 "metadata": {
  "kernelspec": {
   "display_name": "Python 3",
   "language": "python",
   "name": "python3"
  },
  "language_info": {
   "codemirror_mode": {
    "name": "ipython",
    "version": 3
   },
   "file_extension": ".py",
   "mimetype": "text/x-python",
   "name": "python",
   "nbconvert_exporter": "python",
   "pygments_lexer": "ipython3",
   "version": "3.5.2"
  }
 },
 "nbformat": 4,
 "nbformat_minor": 2
}
