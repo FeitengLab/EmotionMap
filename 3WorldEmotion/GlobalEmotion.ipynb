{
 "cells": [
  {
   "cell_type": "code",
   "execution_count": 37,
   "metadata": {
    "collapsed": true
   },
   "outputs": [],
   "source": [
    "import matplotlib.pyplot as plot\n",
    "import numpy"
   ]
  },
  {
   "cell_type": "code",
   "execution_count": null,
   "metadata": {
    "collapsed": true
   },
   "outputs": [],
   "source": [
    "# Face class\n",
    "class FACE(object):\n",
    "    def __init__(self,line):\n",
    "        i=0\n",
    "        # 0.photoid, 1.userid, 2.photo_take_time, 3.photo_upload_time, 4.title, 5.description, 6.geotag, 7.lon, 8.lat, 9.accuracy\n",
    "        self.photoid=str(line).split('\\n')[0].split('\\t')[i]\n",
    "        i=i+1\n",
    "        self.userid=str(line).split('\\n')[0].split('\\t')[i]\n",
    "        i=i+1\n",
    "        self.photo_take_time=str(line).split('\\n')[0].split('\\t')[i]\n",
    "        i=i+1\n",
    "        self.photo_upload_time=str(line).split('\\n')[0].split('\\t')[i]\n",
    "        i=i+1\n",
    "        self.title=str(line).split('\\n')[0].split('\\t')[i]\n",
    "        i=i+1\n",
    "        self.description=str(line).split('\\n')[0].split('\\t')[i]\n",
    "        i=i+1\n",
    "        self.geotag=str(line).split('\\n')[0].split('\\t')[i]\n",
    "        i=i+1\n",
    "        self.lon=str(line).split('\\n')[0].split('\\t')[i]\n",
    "        i=i+1\n",
    "        self.lat=str(line).split('\\n')[0].split('\\t')[i]\n",
    "        i=i+1\n",
    "        self.accuracy=str(line).split('\\n')[0].split('\\t')[i]\n",
    "        i=i+1\n",
    "        # 10.url, 11.facenum, 12.happiness, 13.neutral, 14.sadness, 15.disgust, 16.anger, 17.fear, 18.surprise\n",
    "        self.url=str(line).split('\\n')[0].split('\\t')[i]\n",
    "        i=i+1\n",
    "        self.facenum=str(line).split('\\n')[0].split('\\t')[i]\n",
    "        i=i+1\n",
    "        # 按照'happiness', 'neutral', 'sadness', 'disgust', 'anger', 'fear', 'surprise' 的顺序添加情绪指数\n",
    "        self.happiness=str(line).split('\\n')[0].split('\\t')[i]\n",
    "        i=i+1\n",
    "        self.neutral=str(line).split('\\n')[0].split('\\t')[i]\n",
    "        i=i+1\n",
    "        self.sadness=str(line).split('\\n')[0].split('\\t')[i]\n",
    "        i=i+1\n",
    "        self.disgust=str(line).split('\\n')[0].split('\\t')[i]\n",
    "        i=i+1\n",
    "        self.anger=str(line).split('\\n')[0].split('\\t')[i]\n",
    "        i=i+1\n",
    "        self.fear=str(line).split('\\n')[0].split('\\t')[i]\n",
    "        i=i+1\n",
    "        self.surprise=str(line).split('\\n')[0].split('\\t')[i]\n",
    "        i=i+1\n",
    "        # 19 20.facequality, 21 22.smile, 23.gender, 24.ethnicity, 25.age\n",
    "        self.facequality_s=str(line).split('\\n')[0].split('\\t')[i]\n",
    "        i=i+1\n",
    "        self.facequality_v=str(line).split('\\n')[0].split('\\t')[i]\n",
    "        i=i+1\n",
    "        self.smile_s=str(line).split('\\n')[0].split('\\t')[i]\n",
    "        i=i+1\n",
    "        self.smile_v=str(line).split('\\n')[0].split('\\t')[i]\n",
    "        i=i+1\n",
    "        self.gender=str(line).split('\\n')[0].split('\\t')[i]\n",
    "        i=i+1\n",
    "        self.ethnicity=str(line).split('\\n')[0].split('\\t')[i]\n",
    "        i=i+1\n",
    "        self.age=str(line).split('\\n')[0].split('\\t')[i]\n",
    "        self.attribute=str(line).split('\\n')[0].split('\\t')"
   ]
  },
  {
   "cell_type": "code",
   "execution_count": 108,
   "metadata": {},
   "outputs": [
    {
     "name": "stdout",
     "output_type": "stream",
     "text": [
      "Read End!\n",
      "Faces:  430244  in total.\n"
     ]
    }
   ],
   "source": [
    "# 读取文件\n",
    "faces=[]\n",
    "file=open(r'D:\\Users\\KYH\\Desktop\\EmotionMap\\FlickrEmotionData\\3faces_emotion\\faceflickr0.txt','r')\n",
    "print(\"Read End!\")\n",
    "for line in file.readlines():\n",
    "    face=FACE(line)\n",
    "    faces.append(face)\n",
    "print(\"Faces: \",len(faces),\" in total.\")"
   ]
  },
  {
   "cell_type": "markdown",
   "metadata": {},
   "source": [
    "计算不同人种之间的情绪值"
   ]
  },
  {
   "cell_type": "code",
   "execution_count": 109,
   "metadata": {},
   "outputs": [],
   "source": [
    "asian_face=[]\n",
    "white_face=[]\n",
    "black_face=[]\n",
    "for face in faces:\n",
    "    if face.ethnicity==\"0\":\n",
    "        asian_face.append(face)\n",
    "    elif face.ethnicity==\"1\":\n",
    "        white_face.append(face)\n",
    "    else:\n",
    "        black_face.append(face)"
   ]
  },
  {
   "cell_type": "code",
   "execution_count": 110,
   "metadata": {},
   "outputs": [
    {
     "name": "stdout",
     "output_type": "stream",
     "text": [
      "102403\n",
      "302678\n",
      "25163\n"
     ]
    }
   ],
   "source": [
    "#各人种人脸数目\n",
    "print(\"Asian:\",len(asian_face))\n",
    "print(\"White:\",len(white_face))\n",
    "print(\"Black:\",len(black_face))"
   ]
  },
  {
   "cell_type": "code",
   "execution_count": 101,
   "metadata": {},
   "outputs": [
    {
     "name": "stdout",
     "output_type": "stream",
     "text": [
      "34.0389520174\n",
      "35.2368814685\n",
      "26.7859012922\n"
     ]
    }
   ],
   "source": [
    "#计算各人种平均情绪值\n",
    "black_happy=[float(x.happiness) for x in black_face]\n",
    "print(\"Asian:\",numpy.mean(black_happy))\n",
    "white_happy=[float(x.happiness) for x in white_face]\n",
    "print(\"White:\",numpy.mean(white_happy))\n",
    "asian_happy=[float(x.happiness) for x in asian_face]\n",
    "print(\"Black\",numpy.mean(asian_happy))"
   ]
  },
  {
   "cell_type": "code",
   "execution_count": 102,
   "metadata": {
    "scrolled": true
   },
   "outputs": [
    {
     "data": {
      "image/png": "[encoded data removed]",
      "text/plain": [
       "<matplotlib.figure.Figure at 0x21d8d9bb1d0>"
      ]
     },
     "metadata": {},
     "output_type": "display_data"
    }
   ],
   "source": [
    "#绘制情绪分布图\n",
    "plot.hist([float(x.happiness) for x in white_face])\n",
    "plot.show()"
   ]
  },
  {
   "cell_type": "markdown",
   "metadata": {},
   "source": [
    "计算不同时间段的情绪值"
   ]
  },
  {
   "cell_type": "code",
   "execution_count": 103,
   "metadata": {},
   "outputs": [],
   "source": [
    "years=[[] for i in range(15)]\n",
    "for face in faces:\n",
    "    face_year=int(face.photo_take_time.split('-')[0])\n",
    "    if face_year<2000:\n",
    "        continue\n",
    "    elif face_year>2014:\n",
    "        continue\n",
    "    else:\n",
    "        years[face_year-2000].append(face)"
   ]
  },
  {
   "cell_type": "code",
   "execution_count": 104,
   "metadata": {
    "scrolled": true
   },
   "outputs": [],
   "source": [
    "year_happy=[]\n",
    "for i in range(15):\n",
    "    year_happy.append(numpy.mean([float(x.happiness) for x in years[i]]))"
   ]
  },
  {
   "cell_type": "code",
   "execution_count": 105,
   "metadata": {},
   "outputs": [
    {
     "data": {
      "image/png": "[encoded data removed]",
      "text/plain": [
       "<matplotlib.figure.Figure at 0x21e46850278>"
      ]
     },
     "metadata": {},
     "output_type": "display_data"
    }
   ],
   "source": [
    "plot.plot(list(range(2000,2015)),year_happy)\n",
    "plot.title('happiness change along year')\n",
    "plot.show()"
   ]
  },
  {
   "cell_type": "markdown",
   "metadata": {},
   "source": [
    "计算照片数量"
   ]
  },
  {
   "cell_type": "code",
   "execution_count": 106,
   "metadata": {},
   "outputs": [
    {
     "data": {
      "image/png": "[encoded data removed]",
      "text/plain": [
       "<matplotlib.figure.Figure at 0x21e11f4a0f0>"
      ]
     },
     "metadata": {},
     "output_type": "display_data"
    }
   ],
   "source": [
    "year_count=[]\n",
    "for i in range(15):\n",
    "    year_count.append(len(years[i]))\n",
    "plot.plot(list(range(2000,2015)),year_count)\n",
    "plot.title('photo count along year')\n",
    "plot.show()"
   ]
  },
  {
   "cell_type": "markdown",
   "metadata": {},
   "source": [
    "使用smile计算"
   ]
  },
  {
   "cell_type": "code",
   "execution_count": 111,
   "metadata": {},
   "outputs": [
    {
     "name": "stdout",
     "output_type": "stream",
     "text": [
      "0.6191630568692127\n",
      "0.5995116922934604\n",
      "0.5632159214085525\n"
     ]
    }
   ],
   "source": [
    "#计算各人种笑容比例\n",
    "facecount=0\n",
    "for face in black_face:\n",
    "    if face.smile_v>face.smile_s:\n",
    "        facecount=facecount+1\n",
    "print(facecount/len(black_face))\n",
    "facecount=0\n",
    "for face in white_face:\n",
    "    if face.smile_v>face.smile_s:\n",
    "        facecount=facecount+1\n",
    "print(facecount/len(white_face))\n",
    "facecount=0\n",
    "for face in asian_face:\n",
    "    if face.smile_v>face.smile_s:\n",
    "        facecount=facecount+1\n",
    "print(facecount/len(asian_face))\n"
   ]
  },
  {
   "cell_type": "code",
   "execution_count": null,
   "metadata": {
    "collapsed": true
   },
   "outputs": [],
   "source": []
  }
 ],
 "metadata": {
  "kernelspec": {
   "display_name": "Python 3",
   "language": "python",
   "name": "python3"
  },
  "language_info": {
   "codemirror_mode": {
    "name": "ipython",
    "version": 3
   },
   "file_extension": ".py",
   "mimetype": "text/x-python",
   "name": "python",
   "nbconvert_exporter": "python",
   "pygments_lexer": "ipython3",
   "version": "3.6.3"
  }
 },
 "nbformat": 4,
 "nbformat_minor": 2
}
