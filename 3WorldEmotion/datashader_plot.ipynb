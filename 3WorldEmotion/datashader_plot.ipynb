{
 "cells": [
  {
   "cell_type": "code",
   "execution_count": null,
   "metadata": {
    "ExecuteTime": {
     "end_time": "2018-03-26T14:30:07.685812Z",
     "start_time": "2018-03-26T14:30:03.964467Z"
    },
    "scrolled": true
   },
   "outputs": [],
   "source": [
    "import pandas as pd # Python数据分析始于pandas\n",
    "import datashader as ds\n",
    "import datashader.transfer_functions as tf\n",
    "import datashader.reductions\n",
    "\n",
    "from bokeh.plotting import figure, output_notebook, show\n",
    "from datashader.utils import lnglat_to_meters # 将经纬度向 Web墨卡托投影\n",
    "from datashader.bokeh_ext import InteractiveImage\n",
    "from functools import partial # 函数工厂函数\n",
    "from datashader.utils import export_image # 导出图片\n",
    "from datashader.colors import colormap_select, Greys9, Hot, viridis, inferno # 多种颜色，用于测试\n",
    "from IPython.core.display import HTML, display\n",
    "import bokeh.palettes as bp # bokeh 的颜色\n",
    "from bokeh.palettes import Blues8 # 蓝色\n",
    "from colorcet import fire # 火 系列色\n",
    "from datashader.colors import viridis, inferno, Elevation, Greys9, Hot, Sets1to3, Set1, Set2, Set3 # 多种颜色，用于测试\n",
    "output_notebook()"
   ]
  },
  {
   "cell_type": "code",
   "execution_count": null,
   "metadata": {
    "ExecuteTime": {
     "end_time": "2018-03-26T14:18:55.082534Z",
     "start_time": "2018-03-26T14:18:55.066523Z"
    }
   },
   "outputs": [],
   "source": [
    "import xarray"
   ]
  },
  {
   "cell_type": "code",
   "execution_count": null,
   "metadata": {
    "ExecuteTime": {
     "end_time": "2018-03-26T14:15:53.007522Z",
     "start_time": "2018-03-26T14:15:53.002020Z"
    }
   },
   "outputs": [],
   "source": [
    "import dask\n",
    "dir(dask.array)"
   ]
  },
  {
   "cell_type": "code",
   "execution_count": null,
   "metadata": {
    "ExecuteTime": {
     "end_time": "2018-01-05T13:15:18.773849Z",
     "start_time": "2018-01-05T13:15:15.449598Z"
    }
   },
   "outputs": [],
   "source": [
    "#　读取数据并计时, 5m.csv 是从数据库截取的， 要求第一列经度，第二列纬度，第三列情绪值，TAB隔开\n",
    "%time df = pd.read_csv('5m.csv', sep='\\t', index_col=None, header=None, names=['lon', 'lat', 'val'])\n",
    "df.tail()"
   ]
  },
  {
   "cell_type": "code",
   "execution_count": null,
   "metadata": {
    "ExecuteTime": {
     "end_time": "2018-01-05T13:15:20.178674Z",
     "start_time": "2018-01-05T13:15:19.726582Z"
    }
   },
   "outputs": [],
   "source": [
    "# 投影转换\n",
    "df['x'], df['y'] = lnglat_to_meters(df['lon'], df['lat'])\n",
    "df.tail()"
   ]
  },
  {
   "cell_type": "code",
   "execution_count": null,
   "metadata": {
    "ExecuteTime": {
     "end_time": "2018-01-05T13:15:20.993968Z",
     "start_time": "2018-01-05T13:15:20.981964Z"
    }
   },
   "outputs": [],
   "source": [
    "bound = 20026376.39\n",
    "bounds = x_range, y_range = ((-bound, bound), (int(-bound*0.5), int(bound*0.5))) # 设定绘图边界\n",
    "plot_width = 3000\n",
    "plot_height = int(plot_width*0.5)"
   ]
  },
  {
   "cell_type": "code",
   "execution_count": null,
   "metadata": {
    "ExecuteTime": {
     "end_time": "2018-01-05T13:15:22.284214Z",
     "start_time": "2018-01-05T13:15:22.272213Z"
    }
   },
   "outputs": [],
   "source": [
    "# # NYC = x_range, y_range = ((-8242000,-8210000), (4965000,4990000))\n",
    "# def base_plot(tools='pan,wheel_zoom,reset',plot_width=plot_width, plot_height=plot_height, **plot_args):\n",
    "#     p = figure(tools=tools, plot_width=plot_width, plot_height=plot_height,\n",
    "#         x_range=bounds['x_range'], y_range=bounds['y_range'], outline_line_color=None,\n",
    "#         min_border=0, min_border_left=0, min_border_right=0,\n",
    "#         min_border_top=0, min_border_bottom=0, **plot_args)\n",
    "    \n",
    "#     p.axis.visible = False\n",
    "#     p.xgrid.grid_line_color = None\n",
    "#     p.ygrid.grid_line_color = None\n",
    "#     return p\n",
    "# options = dict(line_color=None, fill_color='blue', size=5)"
   ]
  },
  {
   "cell_type": "code",
   "execution_count": null,
   "metadata": {
    "ExecuteTime": {
     "end_time": "2018-01-05T13:15:23.219664Z",
     "start_time": "2018-01-05T13:15:23.211662Z"
    }
   },
   "outputs": [],
   "source": [
    "background = \"black\"\n",
    "export = partial(export_image, export_path=\"export\", background=background)\n",
    "cm = partial(colormap_select, reverse=(background==\"black\"))"
   ]
  },
  {
   "cell_type": "code",
   "execution_count": null,
   "metadata": {
    "ExecuteTime": {
     "end_time": "2018-01-05T13:15:28.723068Z",
     "start_time": "2018-01-05T13:15:25.712993Z"
    }
   },
   "outputs": [],
   "source": [
    "# 世界范围绘图\n",
    "def create_image(x_range, y_range):\n",
    "    cvs = ds.Canvas(plot_width, plot_height, x_range, y_range)\n",
    "    agg = cvs.points(df, 'x', 'y', ds.reductions.mean('val')) # 情绪均值\n",
    "    return tf.shade(agg,\n",
    "                    cmap=Hot,\n",
    "#                     color_key=color_key\n",
    "                   )\n",
    "create_image(*bounds)\n",
    "export(create_image(*bounds), 'test_figure')"
   ]
  },
  {
   "cell_type": "code",
   "execution_count": null,
   "metadata": {
    "ExecuteTime": {
     "end_time": "2018-01-05T13:20:46.601773Z",
     "start_time": "2018-01-05T13:20:45.555123Z"
    }
   },
   "outputs": [],
   "source": [
    "# 美国\n",
    "plot_width = 2000\n",
    "plot_height = int(plot_width*0.5)\n",
    "def create_image(x_range, y_range):\n",
    "    cvs = ds.Canvas(plot_width, plot_height, x_range, y_range)\n",
    "    agg = cvs.points(df, 'x', 'y', ds.reductions.count()) # 照片计数\n",
    "    return tf.spread(tf.shade(agg,\n",
    "                    cmap=Hot,\n",
    "#                     color_key=color_key\n",
    "                   ))\n",
    "USA           = ((-124.72,  -66.95), (23.55, 50.06))\n",
    "USA = [list(r) for r in lnglat_to_meters(*USA)]\n",
    "create_image(*USA)\n",
    "export(create_image(*USA), 'test_figure')"
   ]
  },
  {
   "cell_type": "code",
   "execution_count": null,
   "metadata": {
    "ExecuteTime": {
     "end_time": "2018-01-05T13:16:44.826179Z",
     "start_time": "2018-01-05T13:16:44.802158Z"
    }
   },
   "outputs": [],
   "source": [
    "NewYorkCity   = (( -74.39,  -73.44), (40.51, 40.91))\n",
    "def subset_df(df, site):\n",
    "    return df[(df['lon'] >= site[0][0]) & (df['lon'] <= site[0][1]) & (df['lat'] >= site[1][0]) & (df['lat'] <= site[1][1])] \n",
    "subset_df(df, NewYorkCity).describe()"
   ]
  },
  {
   "cell_type": "code",
   "execution_count": null,
   "metadata": {
    "ExecuteTime": {
     "end_time": "2018-01-05T13:16:48.018179Z",
     "start_time": "2018-01-05T13:16:47.350589Z"
    }
   },
   "outputs": [],
   "source": [
    "# 纽约市\n",
    "plot_width = 1000\n",
    "plot_height = int(plot_width*0.618)\n",
    "def create_image(x_range, y_range, df=df):\n",
    "    cvs = ds.Canvas(plot_width, plot_height, x_range, y_range)\n",
    "    agg = cvs.points(df, 'x', 'y', ds.reductions.count())\n",
    "    return tf.shade(agg,\n",
    "                    cmap=Hot,\n",
    "                    )\n",
    "\n",
    "NewYorkCity   = (( -74.39,  -73.44), (40.51, 40.91))\n",
    "site = [list(r) for r in lnglat_to_meters(*NewYorkCity)]\n",
    "export(create_image(*site, subset_df(df, NewYorkCity)), 'test_figure')"
   ]
  },
  {
   "cell_type": "code",
   "execution_count": null,
   "metadata": {
    "ExecuteTime": {
     "end_time": "2018-01-05T08:27:44.533278Z",
     "start_time": "2018-01-05T08:27:42.200626Z"
    }
   },
   "outputs": [],
   "source": [
    "sample = df\n",
    "p = base_plot(background_fill_color=background)\n",
    "# p.add_tile(STAMEN_TONER_BACKGROUND)\n",
    "export(create_image(x_range=bounds['x_range'], y_range=bounds['y_range']), 'test_figure')"
   ]
  },
  {
   "cell_type": "code",
   "execution_count": null,
   "metadata": {},
   "outputs": [],
   "source": [
    "# InteractiveImage(p, create_image)"
   ]
  }
 ],
 "metadata": {
  "kernelspec": {
   "display_name": "Python 3",
   "language": "python",
   "name": "python3"
  },
  "language_info": {
   "codemirror_mode": {
    "name": "ipython",
    "version": 3
   },
   "file_extension": ".py",
   "mimetype": "text/x-python",
   "name": "python",
   "nbconvert_exporter": "python",
   "pygments_lexer": "ipython3",
   "version": "3.6.3"
  }
 },
 "nbformat": 4,
 "nbformat_minor": 2
}
